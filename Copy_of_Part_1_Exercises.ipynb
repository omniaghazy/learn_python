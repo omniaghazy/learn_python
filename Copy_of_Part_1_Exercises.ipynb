{
  "nbformat": 4,
  "nbformat_minor": 0,
  "metadata": {
    "colab": {
      "provenance": [],
      "include_colab_link": true
    },
    "kernelspec": {
      "name": "python3",
      "display_name": "Python 3"
    },
    "language_info": {
      "name": "python"
    }
  },
  "cells": [
    {
      "cell_type": "markdown",
      "metadata": {
        "id": "view-in-github",
        "colab_type": "text"
      },
      "source": [
        "<a href=\"https://colab.research.google.com/github/omniaghazy/learn_python/blob/main/Copy_of_Part_1_Exercises.ipynb\" target=\"_parent\"><img src=\"https://colab.research.google.com/assets/colab-badge.svg\" alt=\"Open In Colab\"/></a>"
      ]
    },
    {
      "cell_type": "markdown",
      "source": [
        "\n",
        "<a href=\"https://www.zero-grad.com/\">\n",
        "         <img alt=\"Zero Grad\" src=\"https://lh3.googleusercontent.com/oEMY-qk_B2HW_Fponz1a3u1fLfo3NpO0VFjQKnVW8fH0v93NAWala5Kgp0nN2ubiyZdEMpwhv3Ynv7bXsB0RZ28YfEd_ZlRum75OHEu0-z7XwHfcD3sin7_SORLzg1gz52MsxD3b1WbxQWX1RdR4HP3jpbJTOuCiddl92UBcQH_x-Llx7_XuZuwb9ekN9vYnKsw6U1yL2df4IVrJEDySttzab9qlHvMO7sSekgS64jPVAmATjqXqlvrwM026dhrad-7nX-hfr2uKlUGPuo9xKzVo4EhbUP1-pKBQNPNHO6P0KcReg3NxbtKmWXRyg9LPX0xO-wwXWt9GhCcPXFV_BoY5eQXabCjR3mlr9SO01VgWplas-XF4337_JOm-bVkiaQjQca_N4Gg0hy26TvIGRnHEMIPSgudYPqhMnatoN4xAC715rP82r1svC0_qadXMZHu6D40YqWnY9ZE-iujr2p1_CetxmG-uY94UATy7o-SnxuPchG4QfZkiUgRMr8xNg86bQMuBxbCS_lOyVMwfqwbt2IunlDcZ8yyN_3SJFzFHuFOOjQolgGQrytI0mP1oTwba7je0RtBtCuTck1UCMMsZvMnJhCtWgMmuLoYTkSCzxMXbz0T3L2AClDouA_3dwM7z1gdm8Gq4v06T1KWFUs1adGNH5fuj-pUHEfW4drzzXgolPH5SehqhaNsqdMttCPUzNPIIEjwfULyQi7nlP-w-qydK82mdhdmjQhrprfoGtsPckJkI1Tur60uZI7nLkES5cE3tQrGualSNArRkkU8KN4tStZ0CkmqZNkAlMbfAJSYBD7tDxhGSg922AdLevSLJMTUyg6KuHoY30r7zH1Z8fE0R8aFZL2LJl54OU_tkXEdlFlSnZTOdB-PVTj-yagpt99SetLnQIX5SS_Vxc0BNPKjUZG0oEHYbIxkbZN1O7Rg78xe-thytngS0byfuaeP2X4NYjg29FIffnn72bAUs9Ii0N2mOpABLg1uQMN4MyAa1Mbd_=w1300-h200-no?authuser=1\" >\n",
        "      </a>"
      ],
      "metadata": {
        "id": "hMV-7TpxbEDG"
      }
    },
    {
      "cell_type": "markdown",
      "source": [
        "# **Exercise 1:**\n",
        "\n",
        "Write a program to accept two numbers from the user and print:\n",
        "Summation, Subtraction, multiplication and division"
      ],
      "metadata": {
        "id": "aZ8_lbIwAe4u"
      }
    },
    {
      "cell_type": "code",
      "source": [
        "number1 , number2 ,*noise = input(\"Enter two numbers : \").split(\",\")\n",
        "\n",
        "number1= int(number1)\n",
        "number2= int(number2)\n",
        "Summation= number1 + number2\n",
        "Subtraction= number1 - number2\n",
        "multiplication= number1 * number2\n",
        "division= number1 / number2\n",
        "\n",
        "print(f\"{Summation}= {number1} + {number2}\")\n",
        "print(f\"{Subtraction}= {number1} - {number2}\")\n",
        "print(f\"{multiplication}= {number1} * {number2}\")\n",
        "print(f\"{division}= {number1} / {number2}\")\n"
      ],
      "metadata": {
        "colab": {
          "base_uri": "https://localhost:8080/"
        },
        "id": "jLVd_rlSt8ut",
        "outputId": "eef1f414-e307-4775-bb13-f4a401676942"
      },
      "execution_count": 1,
      "outputs": [
        {
          "output_type": "stream",
          "name": "stdout",
          "text": [
            "Enter two numbers : 34 , 67\n",
            "101= 34 + 67\n",
            "-33= 34 - 67\n",
            "2278= 34 * 67\n",
            "0.5074626865671642= 34 / 67\n"
          ]
        }
      ]
    },
    {
      "cell_type": "markdown",
      "source": [
        "# **Exercise 2:**\n",
        "\n",
        "Write a program to accept three numbers from the user and print:\n",
        "Min. Number and Max. Number"
      ],
      "metadata": {
        "id": "nTILOQqED5j7"
      }
    },
    {
      "cell_type": "code",
      "source": [
        "number1 , number2 , number3 ,*noise = input(\"Enter 3 numbers (sep = ,) :\").split(\",\")\n",
        "number1=int(number1)\n",
        "number2=int(number2)\n",
        "number3=int(number3)\n",
        "mini=min(number1, number2 , number3)\n",
        "maxi=max(number1, number2 , number3)\n",
        "print(f\"MAX Number = {maxi}\")\n",
        "print(f\"Min Number = {mini}\")"
      ],
      "metadata": {
        "colab": {
          "base_uri": "https://localhost:8080/"
        },
        "id": "M1HLa88HyJMr",
        "outputId": "b8696018-a975-474b-913f-ca50fc28effc"
      },
      "execution_count": 2,
      "outputs": [
        {
          "output_type": "stream",
          "name": "stdout",
          "text": [
            "Enter 3 numbers (sep = ,) :34,45,67\n",
            "MAX Number = 67\n",
            "Min Number = 34\n"
          ]
        }
      ]
    },
    {
      "cell_type": "markdown",
      "source": [
        "# **Exercise 3:**\n",
        "\n",
        "Write a program to accept Name, age and salary from the user and print like this:\n",
        "\n",
        "> `My name is Ali.I am 30 years old. My salary is 1155.5$`"
      ],
      "metadata": {
        "id": "LoMkt36AwnfN"
      }
    },
    {
      "cell_type": "code",
      "source": [
        "name , age , salary = input(\"Enter Name, age and salary :\").split()\n",
        "print(f\"My name is {name}.I am {age} years old. My salary is {salary} $\")"
      ],
      "metadata": {
        "colab": {
          "base_uri": "https://localhost:8080/"
        },
        "id": "6GlBIHOe08Vp",
        "outputId": "c6e8b8e3-1a61-4d53-ddfc-34ae767f0eb7"
      },
      "execution_count": 3,
      "outputs": [
        {
          "output_type": "stream",
          "name": "stdout",
          "text": [
            "Enter Name, age and salary :omnia 33 3454\n",
            "My name is omnia.I am 33 years old. My salary is 3454 $\n"
          ]
        }
      ]
    },
    {
      "cell_type": "markdown",
      "source": [
        "# **Exercise 4:**\n",
        "\n",
        "Write a program to accept temperature in Faherenheit and print it in Celsius.\n",
        "> C = (F - 32) * 5/9"
      ],
      "metadata": {
        "id": "m-gOAL9Xwnh4"
      }
    },
    {
      "cell_type": "code",
      "source": [
        "F = int(input(\"Enter temperature in Faherenheit :\"))\n",
        "C = (F - 32) * 5/9\n",
        "print(f\"{F} F = {C} C\")"
      ],
      "metadata": {
        "colab": {
          "base_uri": "https://localhost:8080/"
        },
        "id": "099hfULm10qz",
        "outputId": "35fe04f6-8ec5-4921-ac8c-5622656ff610"
      },
      "execution_count": 4,
      "outputs": [
        {
          "output_type": "stream",
          "name": "stdout",
          "text": [
            "Enter temperature in Faherenheit :34\n",
            "34 F = 1.1111111111111112 C\n"
          ]
        }
      ]
    },
    {
      "cell_type": "markdown",
      "source": [
        "# **Exercise 5:**\n",
        "\n",
        "Write a program to chek if a word is palindrome (read from right as read from left, as \"eye\", \"radar\" and \"madam\").\n",
        "> Print `True` or `False`"
      ],
      "metadata": {
        "id": "RKiPm12Kwnk6"
      }
    },
    {
      "cell_type": "code",
      "source": [
        "word=input(\"enter tho worf to chek if a word is palindrome or not\")\n",
        "reverse = word[::-1]\n",
        "print(word==reverse)"
      ],
      "metadata": {
        "colab": {
          "base_uri": "https://localhost:8080/"
        },
        "id": "RsaQmZYY2HzY",
        "outputId": "444b844e-739f-4a10-daf6-6650797d2d6d"
      },
      "execution_count": 5,
      "outputs": [
        {
          "output_type": "stream",
          "name": "stdout",
          "text": [
            "enter tho worf to chek if a word is palindrome or noteye\n",
            "True\n"
          ]
        }
      ]
    },
    {
      "cell_type": "markdown",
      "source": [
        "# **Exercise 6:**\n",
        "\n",
        "Write a program to remove the \"apple\" item from your basket\n",
        "\n",
        "> `basket = {'Orange' : 10, 'Banana': 15, 'apple' : 20}`"
      ],
      "metadata": {
        "id": "HRYlC5Rownnu"
      }
    },
    {
      "cell_type": "code",
      "source": [
        "basket = {'Orange' : 10, 'Banana': 15, 'apple' : 20}\n",
        "del basket['apple']\n",
        "print(basket)"
      ],
      "metadata": {
        "colab": {
          "base_uri": "https://localhost:8080/"
        },
        "id": "qx8RlBHD365U",
        "outputId": "c358935c-44c6-44c9-bb17-7682db762ead"
      },
      "execution_count": 6,
      "outputs": [
        {
          "output_type": "stream",
          "name": "stdout",
          "text": [
            "{'Orange': 10, 'Banana': 15}\n"
          ]
        }
      ]
    },
    {
      "cell_type": "markdown",
      "source": [
        "# **Exercise 7:**\n",
        "\n",
        "Write a program to return a new set of identical items from two sets\n",
        "\n",
        "> * `Input : s1= {1,3,5,7,2,6,8},  s2 = {5,8,11,14,1}`\n",
        "* `Output : {1, 5, 8}`"
      ],
      "metadata": {
        "id": "qoAF5_rc9rtz"
      }
    },
    {
      "cell_type": "code",
      "source": [
        "s1= {1,3,5,7,2,6,8}\n",
        "s2 = {5,8,11,14,1}\n",
        "\n",
        "print(s2.intersection(s1))"
      ],
      "metadata": {
        "colab": {
          "base_uri": "https://localhost:8080/"
        },
        "id": "9Fjb_6Lb4JQ8",
        "outputId": "a2ad5ff0-479e-412d-b0e7-d7e27e54a8c6"
      },
      "execution_count": 7,
      "outputs": [
        {
          "output_type": "stream",
          "name": "stdout",
          "text": [
            "{8, 1, 5}\n"
          ]
        }
      ]
    },
    {
      "cell_type": "markdown",
      "source": [
        "# **Exercise 8:**\n",
        "\n",
        "Write a program to return a new set of Unique items from two sets\n",
        "\n",
        "> * `Input : s1= {1,3,5,7,2,6,8},  s2 = {5,8,11,14,1}`\n",
        "* `Output : {1, 2, 3, 5, 6, 7, 8, 11, 14}`"
      ],
      "metadata": {
        "id": "S81APpMT-p4x"
      }
    },
    {
      "cell_type": "code",
      "source": [
        "s1= {1,3,5,7,2,6,8}\n",
        "s2 = {5,8,11,14,1}\n",
        "\n",
        "print(s2.union(s1))"
      ],
      "metadata": {
        "colab": {
          "base_uri": "https://localhost:8080/"
        },
        "id": "DoZzTR4w5Jk9",
        "outputId": "0b575ece-e242-4e7f-f38e-6276846bf94b"
      },
      "execution_count": 8,
      "outputs": [
        {
          "output_type": "stream",
          "name": "stdout",
          "text": [
            "{1, 2, 3, 5, 6, 7, 8, 11, 14}\n"
          ]
        }
      ]
    },
    {
      "cell_type": "markdown",
      "source": [
        "# **Exercise 9:**\n",
        "\n",
        "Write a program to Grab \"hello\"\n",
        "\n",
        "`d = {'k1':[{'nest_key':['this is deep',['hello']]}]}`\n",
        "\n"
      ],
      "metadata": {
        "id": "jX6u-tE6GhUj"
      }
    },
    {
      "cell_type": "code",
      "source": [
        "d = {'k1':[{'nest_key':['this is deep',['hello']]}]}\n",
        "\n",
        "print(d[\"k1\"][0]['nest_key'][1][0])"
      ],
      "metadata": {
        "colab": {
          "base_uri": "https://localhost:8080/"
        },
        "id": "aB03nX4h5V0d",
        "outputId": "c6a89c4a-483a-4638-9cde-dc37e147bb17"
      },
      "execution_count": 9,
      "outputs": [
        {
          "output_type": "stream",
          "name": "stdout",
          "text": [
            "hello\n"
          ]
        }
      ]
    },
    {
      "cell_type": "markdown",
      "source": [
        "# **Exercise 10:**\n",
        "\n",
        "Write a program to return a list of unique values of a list\n",
        "> * `Input   :[1,2,3,1,2,3,4,5,6,4,5,6]`\n",
        "* `Output  : [1,2,3,4,5,6]`"
      ],
      "metadata": {
        "id": "VY6rVrZRHfRX"
      }
    },
    {
      "cell_type": "code",
      "source": [
        "input = [1,2,3,1,2,3,4,5,6,4,5,6]\n",
        "output=list(set(input))\n",
        "print(output)\n"
      ],
      "metadata": {
        "colab": {
          "base_uri": "https://localhost:8080/"
        },
        "id": "Hdl4BVMD6Eqy",
        "outputId": "52771d5c-eca1-4847-ebc4-d207dba2c5c4"
      },
      "execution_count": 10,
      "outputs": [
        {
          "output_type": "stream",
          "name": "stdout",
          "text": [
            "[1, 2, 3, 4, 5, 6]\n"
          ]
        }
      ]
    },
    {
      "cell_type": "markdown",
      "source": [
        "# **Exercise 11:**\n",
        "\n",
        "Modify the code below"
      ],
      "metadata": {
        "id": "R8HseONe32-o"
      }
    },
    {
      "cell_type": "code",
      "source": [
        "# books = {\n",
        "#     \"Life of Pi\": \"Adventure Fiction\",\n",
        "#     \"The Three Musketeers\": \"Historical Adventure\",\n",
        "#     \"Watchmen\": \"Comics\",\n",
        "#     \"Bird Box\": \"Horror\",\n",
        "#     \"Harry Potter\":\"Fantasy Fiction\",\n",
        "#     \"Good Omens\": \"Comedy\"\n",
        "# }\n",
        "\n",
        "# # book =\"Good Omens\"\n",
        "# book ,*rest = input(\"Enter Book Name :\").split()\n",
        "\n",
        "# print(books.get(book ,\"Not Found\"))\n",
        "# #change this part to use the .get() method\n",
        "# # if(book in books):\n",
        "# #     print(books[book])\n",
        "# # else:\n",
        "# #     print(\"Not Found\")"
      ],
      "metadata": {
        "id": "dkpXuiX283Mm"
      },
      "execution_count": 15,
      "outputs": []
    },
    {
      "cell_type": "markdown",
      "source": [
        "# **Exercise 12:**\n",
        "\n",
        "Write a program to calculate the Euclidean Distance between two points\n",
        "\n",
        "![](https://miro.medium.com/max/277/1*IVy5Ozk6e3sQtG_wuKo19A.jpeg)\n"
      ],
      "metadata": {
        "id": "8XSxNew9332H"
      }
    },
    {
      "cell_type": "code",
      "source": [
        "p1 = (1,2)\n",
        "p2 = (3,4)\n",
        "distance = ((p1[0]-p2[0])**2 + (p1[1]-p2[1])**2)**0.5\n",
        "print(distance)\n",
        "\n",
        "#calculate distance"
      ],
      "metadata": {
        "id": "N97Ls9uz90bM",
        "colab": {
          "base_uri": "https://localhost:8080/"
        },
        "outputId": "5264e3f6-d219-492c-b40e-a0509fc6c9c3"
      },
      "execution_count": 16,
      "outputs": [
        {
          "output_type": "stream",
          "name": "stdout",
          "text": [
            "2.8284271247461903\n"
          ]
        }
      ]
    },
    {
      "cell_type": "markdown",
      "source": [
        "# **Exercise 13:**\n",
        "\n",
        "Write a program to calculate how many sentances and words in the following paragraph"
      ],
      "metadata": {
        "id": "UFXwSrfN335T"
      }
    },
    {
      "cell_type": "code",
      "source": [
        "paragraph = '''Hello Friends. This is a light exercise. Enjoy!'''\n",
        "words =len(paragraph.split())\n",
        "Sentences = len(paragraph.split(\".\"))\n",
        "print(f\"No. of words = {words}\")\n",
        "print(f\"No. of Sentences = {Sentences}\")\n",
        "\n",
        "\n",
        "# calculate No. of Sentences & No. of words"
      ],
      "metadata": {
        "id": "nn0apEJp-X48",
        "colab": {
          "base_uri": "https://localhost:8080/"
        },
        "outputId": "b80924c5-f7bf-490e-a944-ac187097c3c4"
      },
      "execution_count": 17,
      "outputs": [
        {
          "output_type": "stream",
          "name": "stdout",
          "text": [
            "No. of words = 8\n",
            "No. of Sentences = 3\n"
          ]
        }
      ]
    },
    {
      "cell_type": "code",
      "source": [],
      "metadata": {
        "id": "THFcvM1o9B0g"
      },
      "execution_count": null,
      "outputs": []
    }
  ]
}