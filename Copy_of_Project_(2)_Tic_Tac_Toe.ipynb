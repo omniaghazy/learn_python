{
  "nbformat": 4,
  "nbformat_minor": 0,
  "metadata": {
    "colab": {
      "provenance": [],
      "include_colab_link": true
    },
    "kernelspec": {
      "name": "python3",
      "display_name": "Python 3"
    },
    "language_info": {
      "name": "python"
    }
  },
  "cells": [
    {
      "cell_type": "markdown",
      "metadata": {
        "id": "view-in-github",
        "colab_type": "text"
      },
      "source": [
        "<a href=\"https://colab.research.google.com/github/omniaghazy/learn_python/blob/main/Copy_of_Project_(2)_Tic_Tac_Toe.ipynb\" target=\"_parent\"><img src=\"https://colab.research.google.com/assets/colab-badge.svg\" alt=\"Open In Colab\"/></a>"
      ]
    },
    {
      "cell_type": "markdown",
      "source": [
        "# Tic Tac Toe Project Description"
      ],
      "metadata": {
        "id": "PhpgbWHJhJOW"
      }
    },
    {
      "cell_type": "markdown",
      "source": [
        " **`(1) Create Empty board (3x3):`**\n",
        "\n",
        "  `1  2  3`\n",
        "\n",
        "  `4 5 6`\n",
        "\n",
        "  `7 8 9`\n",
        "\n",
        " **`(2) Show Board`**\n",
        "\n",
        " **`(3) Set Players Randomly ('X', 'O')`**\n",
        "\n",
        " **`(4) Take Input from Player`**\n",
        "\n",
        " **`(5) Check Full Board >> Draw`**\n",
        "\n",
        " **`(6) Check if Someone wins >> Finish`**"
      ],
      "metadata": {
        "id": "9XJyp9xehPBl"
      }
    },
    {
      "cell_type": "markdown",
      "source": [
        "# Template"
      ],
      "metadata": {
        "id": "m2nflmTioFy_"
      }
    },
    {
      "cell_type": "markdown",
      "source": [
        "## Empty Board"
      ],
      "metadata": {
        "id": "GsE-z7Son-xm"
      }
    },
    {
      "cell_type": "code",
      "source": [
        "def create_empty_board():\n",
        "  board = [\n",
        "      [1,2,3],\n",
        "      [4,5,6],\n",
        "      [7,8,9]\n",
        "  ]\n",
        "  for item in board :\n",
        "    for col in item:\n",
        "       print(col , end=\"\\t\")\n",
        "    print(\"\\n\")\n",
        "\n"
      ],
      "metadata": {
        "id": "YueCJNtPnndY"
      },
      "execution_count": null,
      "outputs": []
    },
    {
      "cell_type": "code",
      "source": [
        "create_empty_board()"
      ],
      "metadata": {
        "id": "RMlzPMyHRIq7"
      },
      "execution_count": null,
      "outputs": []
    },
    {
      "cell_type": "markdown",
      "source": [
        "## Show Board"
      ],
      "metadata": {
        "id": "qjKBWyq4f3Fr"
      }
    },
    {
      "cell_type": "code",
      "source": [
        "def show_board(board):\n",
        "    for item in board :\n",
        "      for col in item:\n",
        "       print(col , end=\"\\t\")\n",
        "      print(\"\\n\")\n",
        "\n",
        ""
      ],
      "metadata": {
        "id": "Bn6VqZo_Xze5"
      },
      "execution_count": null,
      "outputs": []
    },
    {
      "cell_type": "code",
      "source": [
        "board = [[1,2,3],[4,'X',6],[7,8,9]]\n",
        "show_board(board)"
      ],
      "metadata": {
        "id": "Z7lIOpFfX3dU"
      },
      "execution_count": null,
      "outputs": []
    },
    {
      "cell_type": "markdown",
      "source": [
        "## Set Players"
      ],
      "metadata": {
        "id": "ZaIwkooboJ5p"
      }
    },
    {
      "cell_type": "code",
      "source": [
        "import random\n",
        "def set_players():\n",
        "  player1 = random.choice([\"x\",\"o\"])\n",
        "  if player1==\"x\":\n",
        "    player2=\"o\"\n",
        "  else:\n",
        "    player2=\"x\"\n",
        "  print(f\"player1 is {player1}\")\n",
        "  print(f\"player2 is {player2}\")\n",
        "\n",
        "  return player1,player2"
      ],
      "metadata": {
        "id": "we7UkC6AhFwy"
      },
      "execution_count": null,
      "outputs": []
    },
    {
      "cell_type": "code",
      "source": [
        "set_players()"
      ],
      "metadata": {
        "id": "3A_FDAHLWxNF"
      },
      "execution_count": null,
      "outputs": []
    },
    {
      "cell_type": "markdown",
      "source": [
        "## Take Input"
      ],
      "metadata": {
        "id": "VNl11PuZgDjc"
      }
    },
    {
      "cell_type": "code",
      "source": [
        "def take_input(board, player):\n",
        "  while True:\n",
        "    move = input(\"Enter a number between 1-9\")\n",
        "    if move==\"1\" and board[0][0].isdigit():\n",
        "      board[0][0]=player\n",
        "      break\n",
        "    elif move==\"2\" and board[0][1].isdigit():\n",
        "      board[0][1]=player\n",
        "      break\n",
        "    elif move==\"3\" and board[0][2].isdigit():\n",
        "      board[0][2]=player\n",
        "      break\n",
        "    elif move==\"4\" and board[1][0].isdigit():\n",
        "      board[1][0]=player\n",
        "      break\n",
        "    elif move==\"5\" and board[1][1].isdigit():\n",
        "      board[1][1]=player\n",
        "      break\n",
        "    elif move==\"6\" and board[1][2].isdigit():\n",
        "      board[1][2]=player\n",
        "      break\n",
        "    elif move==\"7\" and board[2][0].isdigit():\n",
        "      board[2][0]=player\n",
        "      break\n",
        "    elif move==\"8\" and board[2][1].isdigit():\n",
        "      board[2][1]=player\n",
        "      break\n",
        "\n",
        "    elif move==\"9\" and board[2][2].isdigit():\n",
        "      board[2][2]=player\n",
        "      break\n",
        "    else:\n",
        "      print(\"invalid input\")\n",
        "  show_board(board)"
      ],
      "metadata": {
        "id": "pZAd299MY2fw"
      },
      "execution_count": null,
      "outputs": []
    },
    {
      "cell_type": "code",
      "source": [
        "board = [['1','2','3'],['4','X','6'],['7','8','9']]\n",
        "player ='o'\n",
        "player_input = '8'\n",
        "take_input(board, player)\n"
      ],
      "metadata": {
        "id": "bH2UI4GEcAVp"
      },
      "execution_count": null,
      "outputs": []
    },
    {
      "cell_type": "markdown",
      "source": [
        "## Check Full Board"
      ],
      "metadata": {
        "id": "mgCFF48jgVq7"
      }
    },
    {
      "cell_type": "code",
      "source": [
        "def check_full_board(board):\n",
        "  for item in board :\n",
        "    for col in item:\n",
        "      if col.isdigit():\n",
        "        return False\n",
        "  return True"
      ],
      "metadata": {
        "id": "obxUdjg_ThZi"
      },
      "execution_count": null,
      "outputs": []
    },
    {
      "cell_type": "code",
      "source": [
        "board = [['o','x','x'],['o','X','o'],['x','o','x']]\n",
        "check_full_board(board)"
      ],
      "metadata": {
        "id": "TcLZt1PqS_9i"
      },
      "execution_count": null,
      "outputs": []
    },
    {
      "cell_type": "code",
      "source": [
        "board = [['o','x','x'],['4','X','o'],['x','o','x']]\n",
        "check_full_board(board)"
      ],
      "metadata": {
        "id": "s475eihMkEqL"
      },
      "execution_count": null,
      "outputs": []
    },
    {
      "cell_type": "markdown",
      "source": [
        "## Check Win\n"
      ],
      "metadata": {
        "id": "OjfyXPCeoQM4"
      }
    },
    {
      "cell_type": "code",
      "source": [
        "def check_win(board):\n",
        "  return check_rows(board) or check_cols(board) or check_diagonals(board)\n",
        "\n",
        "\n",
        "def check_rows(board):\n",
        "  for row in board:\n",
        "    if row[0]==row[1]==row[2]:\n",
        "      return row[0]\n",
        "  return False\n",
        "def check_cols(board):\n",
        "  for col in range(3):\n",
        "    if board[0][col]==board[1][col]==board[2][col]:\n",
        "      return board[0][col]\n",
        "  return False\n",
        "def check_diagonals(board):\n",
        "  if board[0][0]==board[1][1]==board[2][2]:\n",
        "    return board[0][0]\n",
        "  if board[0][2]==board[1][1]==board[2][0]:\n",
        "    return board[0][2]\n",
        "    return False"
      ],
      "metadata": {
        "id": "NTxJ1qsJmhoG"
      },
      "execution_count": null,
      "outputs": []
    },
    {
      "cell_type": "code",
      "source": [
        "board = [['o','x','x'],['o','o','x'],['x','o','x']]\n",
        "show_board(board)\n",
        "check_win(board)"
      ],
      "metadata": {
        "id": "E-mETiZEfZqp"
      },
      "execution_count": null,
      "outputs": []
    },
    {
      "cell_type": "code",
      "source": [
        "board = [['o','x','o'],['o','o','x'],['x','o','x']]\n",
        "show_board(board)\n",
        "check_win(board)"
      ],
      "metadata": {
        "id": "CmlQlsjZkIut"
      },
      "execution_count": null,
      "outputs": []
    },
    {
      "cell_type": "markdown",
      "source": [
        "## Let's Play"
      ],
      "metadata": {
        "id": "uI9u-XGV2S7P"
      }
    },
    {
      "cell_type": "code",
      "source": [
        "def play():\n",
        "  board = create_empty_board()\n",
        "  player1,player2 = set_players()\n",
        "  print(\"let's start\")\n",
        "  print(\"player1 starts first\")\n",
        "  board = [['1','2','3'],['4','5','6'],['7','8','9']]\n",
        "  show_board(board)\n",
        "  while True:\n",
        "    take_input(board, player1)\n",
        "    if check_win(board):\n",
        "      print(f\"{check_win(board)} is the winner\")\n",
        "      break\n",
        "    if check_full_board(board):\n",
        "      print(\"Draw\")\n",
        "      break\n",
        "    take_input(board, player2)\n",
        "    if check_win(board):\n",
        "      print(f\"{check_win(board)} is the winner\")\n",
        "      break\n",
        "    if check_full_board(board):\n",
        "      print(\"Draw\")\n",
        "      break\n",
        "\n",
        "\n",
        ""
      ],
      "metadata": {
        "id": "4nIAPOhSpksM"
      },
      "execution_count": null,
      "outputs": []
    },
    {
      "cell_type": "code",
      "source": [
        "play()"
      ],
      "metadata": {
        "colab": {
          "base_uri": "https://localhost:8080/"
        },
        "id": "7m9ENdZp1Ffg",
        "outputId": "d0a2aea9-6d01-424a-e2e4-72237013c229"
      },
      "execution_count": null,
      "outputs": [
        {
          "output_type": "stream",
          "name": "stdout",
          "text": [
            "1\t2\t3\t\n",
            "\n",
            "4\t5\t6\t\n",
            "\n",
            "7\t8\t9\t\n",
            "\n",
            "player1 is o\n",
            "player2 is x\n",
            "player1 is o\n",
            "player2 is x\n",
            "let's start\n",
            "player1 starts first\n",
            "1\t2\t3\t\n",
            "\n",
            "4\t5\t6\t\n",
            "\n",
            "7\t8\t9\t\n",
            "\n",
            "Enter a number between 1-91\n",
            "o\t2\t3\t\n",
            "\n",
            "4\t5\t6\t\n",
            "\n",
            "7\t8\t9\t\n",
            "\n"
          ]
        }
      ]
    },
    {
      "cell_type": "code",
      "source": [],
      "metadata": {
        "id": "O911u9mL3Akr"
      },
      "execution_count": null,
      "outputs": []
    }
  ]
}