{
  "nbformat": 4,
  "nbformat_minor": 0,
  "metadata": {
    "colab": {
      "provenance": [],
      "authorship_tag": "ABX9TyNKxiIx9fh6Tsw1J0xQCUHS",
      "include_colab_link": true
    },
    "kernelspec": {
      "name": "python3",
      "display_name": "Python 3"
    },
    "language_info": {
      "name": "python"
    }
  },
  "cells": [
    {
      "cell_type": "markdown",
      "metadata": {
        "id": "view-in-github",
        "colab_type": "text"
      },
      "source": [
        "<a href=\"https://colab.research.google.com/github/omniaghazy/learn_python/blob/main/Guessing_Game.ipynb\" target=\"_parent\"><img src=\"https://colab.research.google.com/assets/colab-badge.svg\" alt=\"Open In Colab\"/></a>"
      ]
    },
    {
      "cell_type": "code",
      "execution_count": 45,
      "metadata": {
        "id": "GvQQTJpqLMC6"
      },
      "outputs": [],
      "source": []
    },
    {
      "cell_type": "markdown",
      "source": [
        "## Guessing Game Project Description"
      ],
      "metadata": {
        "id": "wYhL91svLXqC"
      }
    },
    {
      "cell_type": "markdown",
      "source": [
        "* **`First: You ask the user to set the game level:`**\n",
        "  * *(1) Easy*:\n",
        "    * Limits : [1 - 10]  \n",
        "    * No. of trials : 3\n",
        "  * *(2) Intermediate*:\n",
        "    * Limits : [1 - 100]\n",
        "    * No. of trials : 7\n",
        "  * *(3) Hard* :  \n",
        "    * Limits : [1 - 1000]\n",
        "    * No. of trials : 15\n",
        "\n",
        "* **`Second: set the game settings according to the game level:`**\n",
        "  * set the `guess` to a number within the limits using `random` module\n",
        "  * set the number of trials: `n_trials`\n",
        "\n",
        "* **`Finally: Play the game:`**\n",
        "  * Ask the user to guess the number:\n",
        "    * If he guessed it successfully : `print('Congratulations, you achieved it in {user_trials} trial') `\n",
        "    * if he failed:\n",
        "      * user_trials < n_trials: till him (Increase) or (Decrease)\n",
        "      * user_trials = n_trials: `print('You Lose!')`\n",
        "      "
      ],
      "metadata": {
        "id": "2YVoRjxLLe11"
      }
    },
    {
      "cell_type": "code",
      "source": [
        "print('Welcome to the Guessing Game!')\n"
      ],
      "metadata": {
        "colab": {
          "base_uri": "https://localhost:8080/"
        },
        "id": "lkPId04KLa-k",
        "outputId": "6048a512-558e-4070-dd82-7594773fb3ba"
      },
      "execution_count": 46,
      "outputs": [
        {
          "output_type": "stream",
          "name": "stdout",
          "text": [
            "Welcome to the Guessing Game!\n"
          ]
        }
      ]
    },
    {
      "cell_type": "markdown",
      "source": [
        "# **Template of Solution**"
      ],
      "metadata": {
        "id": "Gfn5wJojMrF2"
      }
    },
    {
      "cell_type": "markdown",
      "source": [
        "**Show the game levels**"
      ],
      "metadata": {
        "id": "wUSN_9u2M2SM"
      }
    },
    {
      "cell_type": "code",
      "source": [
        "def show_levels():\n",
        "  # write your code here\n",
        "  print('1. Easy')\n",
        "  print('2. Intermediate')\n",
        "  print('3. Hard')\n",
        ""
      ],
      "metadata": {
        "id": "xH8i7drOMqbm"
      },
      "execution_count": 47,
      "outputs": []
    },
    {
      "cell_type": "markdown",
      "source": [
        "**Ask the user for the game level**"
      ],
      "metadata": {
        "id": "0xGu0pDlNDIO"
      }
    },
    {
      "cell_type": "code",
      "source": [
        "def game_level_choice():\n",
        "  game_level = int(input('Please choose a game level: '))\n",
        "  # write your code here\n",
        "  return game_level"
      ],
      "metadata": {
        "id": "kcWrL4s3M_gi"
      },
      "execution_count": 48,
      "outputs": []
    },
    {
      "cell_type": "markdown",
      "source": [
        "**Set the game settings according to the game level:**"
      ],
      "metadata": {
        "id": "mZD1MuXONYZT"
      }
    },
    {
      "cell_type": "code",
      "source": [
        "def set_game_settings(game_level):\n",
        "  if game_level ==1 :\n",
        "    limits = range(1 , 11)\n",
        "    n_trials = 3\n",
        "  elif game_level== 2:\n",
        "    limits = range(1,101)\n",
        "    n_trials = 7\n",
        "  elif game_level== 3:\n",
        "    limits = range(1,1001)\n",
        "    n_trials = 15\n",
        "  else:\n",
        "    print(\" error\")\n",
        "  # write your code here\n",
        "  return limits, n_trials"
      ],
      "metadata": {
        "id": "IN4fv-mwNQS2"
      },
      "execution_count": 49,
      "outputs": []
    },
    {
      "cell_type": "markdown",
      "source": [
        "# **Start Playing**"
      ],
      "metadata": {
        "id": "WgEQwusYO-IK"
      }
    },
    {
      "cell_type": "markdown",
      "source": [
        "Hint: to generate random number in some range:\n",
        "\n",
        "import random\n",
        "\n",
        "num = random.randint(lower, upper)\n",
        "\n",
        "or\n",
        "\n",
        "num = random.choice(range(lower, upper))"
      ],
      "metadata": {
        "id": "b_XXp3A4PEvA"
      }
    },
    {
      "cell_type": "code",
      "source": [
        "import random\n",
        "def start_play(limits, n_trials):\n",
        "  num = random.choice(limits)\n",
        "  print(\"I have a hidden number \")\n",
        "\n",
        "  while n_trials > 0:\n",
        "      --n_trials\n",
        "\n",
        "      guess = int(input(f\"Guess within {limits} , you have now n_trials ={n_trials}====> \"))\n",
        "      if guess == num :\n",
        "         print(f'Congratulations, you achieved it in {n_trials} trial')\n",
        "         break\n",
        "      elif guess > num:\n",
        "             print(\"No, Decrease!\")\n",
        "      else:\n",
        "        print(\"No, Increase!\")\n",
        "\n",
        "  if n_trials==0 and guess != num:\n",
        "      print('You Lose!')\n",
        "\n",
        "  # write your code here\n"
      ],
      "metadata": {
        "id": "uQ7A-9F2PAJ2"
      },
      "execution_count": 50,
      "outputs": []
    },
    {
      "cell_type": "markdown",
      "source": [
        "**Let's play**"
      ],
      "metadata": {
        "id": "bfEUKgn7QN7L"
      }
    },
    {
      "cell_type": "code",
      "source": [
        "def play():\n",
        "  show_levels()\n",
        "  game_level = game_level_choice()\n",
        "  limits, n_trials = set_game_settings(game_level)\n",
        "  start_play(limits, n_trials)"
      ],
      "metadata": {
        "id": "ro23zyu9QRJ5"
      },
      "execution_count": 51,
      "outputs": []
    },
    {
      "cell_type": "code",
      "source": [
        "play()"
      ],
      "metadata": {
        "colab": {
          "base_uri": "https://localhost:8080/"
        },
        "id": "Is_Jqs8zQYrS",
        "outputId": "d166c8c9-d3d6-4742-f941-a1bc6893d71b"
      },
      "execution_count": 52,
      "outputs": [
        {
          "output_type": "stream",
          "name": "stdout",
          "text": [
            "1. Easy\n",
            "2. Intermediate\n",
            "3. Hard\n",
            "Please choose a game level: 1\n",
            "I have a hidden number \n",
            "Guess within range(1, 10) , you have now n_trials =3====> 1\n",
            "No, Increase!\n",
            "Guess within range(1, 10) , you have now n_trials =3====> 2\n",
            "Congratulations, you achieved it in 3 trial\n"
          ]
        }
      ]
    }
  ]
}