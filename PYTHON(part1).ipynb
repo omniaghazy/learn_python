{
  "nbformat": 4,
  "nbformat_minor": 0,
  "metadata": {
    "colab": {
      "provenance": [],
      "authorship_tag": "ABX9TyPoQSRDlLadmN/u3h0flDaI",
      "include_colab_link": true
    },
    "kernelspec": {
      "name": "python3",
      "display_name": "Python 3"
    },
    "language_info": {
      "name": "python"
    }
  },
  "cells": [
    {
      "cell_type": "markdown",
      "metadata": {
        "id": "view-in-github",
        "colab_type": "text"
      },
      "source": [
        "<a href=\"https://colab.research.google.com/github/omniaghazy/learn_python/blob/main/PYTHON(part1).ipynb\" target=\"_parent\"><img src=\"https://colab.research.google.com/assets/colab-badge.svg\" alt=\"Open In Colab\"/></a>"
      ]
    },
    {
      "cell_type": "code",
      "execution_count": 1,
      "metadata": {
        "colab": {
          "base_uri": "https://localhost:8080/"
        },
        "id": "ODxgzAn9pqwe",
        "outputId": "9aff902d-ee9e-4b09-ec75-2da603dcea24"
      },
      "outputs": [
        {
          "output_type": "stream",
          "name": "stdout",
          "text": [
            "simple arithmatic\n",
            "3\n",
            "8\n",
            "4\n",
            "5.5\n",
            "5\n",
            "1\n",
            "Numeric function\n",
            "67\n",
            "9\n",
            "23\n",
            "15\n",
            "20\n",
            "Data Types\n",
            "<class 'int'>\n",
            "<class 'int'>\n",
            "<class 'float'>\n",
            "<class 'str'>\n",
            "<class 'str'>\n",
            "<class 'bool'>\n",
            "<class 'bool'>\n",
            "<class 'complex'>\n",
            "<class 'str'>\n",
            "<class 'tuple'>\n",
            "<class 'list'>\n",
            "<class 'set'>\n",
            "<class 'dict'>\n",
            "Data conversion\n",
            "5.0\n",
            "0\n",
            "345\n",
            "45\n",
            "Bool Logic operator\n",
            "True\n",
            "True\n",
            "True\n",
            "Assignment\n",
            "153.86\n",
            "String\n",
            "I LOVE PYTHON\n",
            "i love python\n",
            "I love python\n",
            "True\n",
            "string input\n",
            "input any messageomnia\n",
            "String multiplication\n",
            "omniaomniaomniaomniaomnia\n",
            "escape\n",
            "i can't do anything\n",
            "i can't do anything  \n",
            " ana sater geded\n",
            "\t i can't do anything\n",
            "String concatenation\n",
            "i  am  sad\n"
          ]
        }
      ],
      "source": [
        "\n",
        "print(\"simple arithmatic\")\n",
        "\n",
        "print(2+1)         #3\n",
        "print(2**3)       #8\n",
        "print(2*2)     #4\n",
        "print(11/2)   #5.5\n",
        "print(11//2)  #5\n",
        "print(11%2)   #.5=5\n",
        "\n",
        "\n",
        "print(\"Numeric function\")\n",
        "print(max(1,23,45,67))   #67\n",
        "print(min(34,56,78,9))   #9\n",
        "print(abs(-23))    #23\n",
        "print(sum({1,2,3,4,5,5}))  #15         بتحذف المكرر من الارقام فالعملية {}\n",
        "print(sum([1,2,3,4,5,5]))  #20   بتاخدكل الارقام اللي جواها حتي لو مكرره[]\n",
        "\n",
        "\n",
        "print(\"Data Types\")\n",
        "print(type(12))           #<class 'int'>\n",
        "print(type(0))           #<class 'int'>\n",
        "print(type(.0))           #<class 'float'>\n",
        "print(type('a'))           #<class 'str'>\n",
        "print(type(\"omnia\"))           #<class 'str'>\n",
        "print(type(True))           #<class 'bool'>\n",
        "print(type(False))           #<class 'bool'>\n",
        "print(type(1+2j))          #<class 'complex'>\n",
        "print(type(\"\"))           #<class 'str'>\n",
        "print(type((1,2,3)))      #<class 'tuple'>\n",
        "print(type([1,2,3]))      #<class 'list'>\n",
        "print(type({1,2,3}))       #<class 'set'>\n",
        "print(type({\"q\": \"we\"}))   #<class 'dict'>\n",
        "\n",
        "\n",
        "\n",
        "print(\"Data conversion\")\n",
        "print(float(5))    #5.0\n",
        "print(int(.9))    #0\n",
        "print(int(\"345\"))   #345\n",
        "print(str(45))    #45\n",
        "\n",
        "\n",
        "\n",
        "\n",
        "print(\"Bool Logic operator\")\n",
        "\n",
        "\"\"\"  and     or  not  \"\"\"\n",
        "print(3>2 and 2>1)    #True\n",
        "print(3>2 or 2<1)     #True\n",
        "print(not (5> 8))     #True\n",
        "\n",
        "\n",
        "\n",
        "\n",
        "print(\"Assignment\")\n",
        "pi= 3.14\n",
        "radius= 7\n",
        "area= pi*(radius**2)\n",
        "print(area)\n",
        "\n",
        "print(\"String\")\n",
        "text =\"i love python\"\n",
        "text1= text.upper()   # I LOVE PYTHON\n",
        "print(text1)\n",
        "text1= text.lower()   #  i love python\n",
        "print(text1)\n",
        "text1= text.capitalize()   #  I love python\n",
        "print(text1)\n",
        "text1= text.endswith(\"python\")   #  True\n",
        "print(text1)\n",
        "\n",
        "print(\"string input\")\n",
        "inputmessage = input(\"input any message\")\n",
        "\n",
        "\n",
        "print(\"String multiplication\")\n",
        "print(inputmessage * 5)\n",
        "\n",
        "\n",
        "\n",
        "\n",
        "print(\"escape\")\n",
        "print(\"i can\\'t do anything\")      #i can't do anything\n",
        "print(\"i can\\'t do anything  \\n ana sater geded\")      #i can't do anything\n",
        "#                                                          ana sater geded\n",
        "print(\"\\t i can\\'t do anything\")    #tap...\n",
        "\n",
        "\n",
        "\n",
        "print(\"String concatenation\")\n",
        "print(\"i \" + \" am \" + \" sad\")\n",
        "\n",
        "\n",
        "\n",
        "\n",
        "\n",
        "\n",
        "\n",
        "\n"
      ]
    },
    {
      "cell_type": "code",
      "source": [
        "text=\"ABCDE\"\n",
        "text[:]\n"
      ],
      "metadata": {
        "colab": {
          "base_uri": "https://localhost:8080/",
          "height": 36
        },
        "id": "BJ49IsqgqBT0",
        "outputId": "9bfad22b-3513-487d-be44-2563a67bfb1b"
      },
      "execution_count": 2,
      "outputs": [
        {
          "output_type": "execute_result",
          "data": {
            "text/plain": [
              "'ABCDE'"
            ],
            "application/vnd.google.colaboratory.intrinsic+json": {
              "type": "string"
            }
          },
          "metadata": {},
          "execution_count": 2
        }
      ]
    },
    {
      "cell_type": "code",
      "source": [
        "text=\"ABCDE\"\n",
        "print(text[0::2])\n",
        "print(text[:-1:2])\n",
        "print(text[0:4])\n",
        "\n",
        "\n"
      ],
      "metadata": {
        "colab": {
          "base_uri": "https://localhost:8080/"
        },
        "id": "VTirUyuJqd0z",
        "outputId": "59b796f2-327f-4fb6-a9cb-1e485ed9488c"
      },
      "execution_count": 5,
      "outputs": [
        {
          "output_type": "stream",
          "name": "stdout",
          "text": [
            "ACE\n",
            "AC\n",
            "ABCD\n"
          ]
        }
      ]
    },
    {
      "cell_type": "code",
      "source": [
        "text[-1]"
      ],
      "metadata": {
        "colab": {
          "base_uri": "https://localhost:8080/",
          "height": 36
        },
        "id": "xuLTtVOPq5xG",
        "outputId": "90b33d2b-b6a3-4772-cb6e-35828c6136b7"
      },
      "execution_count": 6,
      "outputs": [
        {
          "output_type": "execute_result",
          "data": {
            "text/plain": [
              "'E'"
            ],
            "application/vnd.google.colaboratory.intrinsic+json": {
              "type": "string"
            }
          },
          "metadata": {},
          "execution_count": 6
        }
      ]
    },
    {
      "cell_type": "code",
      "source": [
        "text[::-1]             #mirror"
      ],
      "metadata": {
        "colab": {
          "base_uri": "https://localhost:8080/",
          "height": 36
        },
        "id": "JMaAjuuArT7Q",
        "outputId": "5b150c88-0b6f-429a-ced0-da08305413d6"
      },
      "execution_count": 8,
      "outputs": [
        {
          "output_type": "execute_result",
          "data": {
            "text/plain": [
              "'EDCBA'"
            ],
            "application/vnd.google.colaboratory.intrinsic+json": {
              "type": "string"
            }
          },
          "metadata": {},
          "execution_count": 8
        }
      ]
    },
    {
      "cell_type": "code",
      "source": [
        "# string ======> list\n",
        "text = \" Hello, I am Omnia\"\n",
        "tolist = text.split()   #=.split(\"sep='نكتبها هنا' \")\n",
        "tolist"
      ],
      "metadata": {
        "colab": {
          "base_uri": "https://localhost:8080/"
        },
        "id": "OOP4s6P6rYu_",
        "outputId": "f3eaa2d7-ec33-42ba-bbe3-ac9ba22eb01a"
      },
      "execution_count": 12,
      "outputs": [
        {
          "output_type": "execute_result",
          "data": {
            "text/plain": [
              "['Hello,', 'I', 'am', 'Omnia']"
            ]
          },
          "metadata": {},
          "execution_count": 12
        }
      ]
    },
    {
      "cell_type": "code",
      "source": [
        "#print formating\n",
        "name =\"Salah\"\n",
        "age = 60\n",
        "\n",
        "print(\"Name= {} , Age ={}\".format(name,age))\n",
        "print(f\"Name= {name} , Age = {age}\")"
      ],
      "metadata": {
        "colab": {
          "base_uri": "https://localhost:8080/"
        },
        "id": "KFgqfrWKtlr-",
        "outputId": "1a9102f7-07d4-41fe-89c4-d5a0ed2b26e5"
      },
      "execution_count": 13,
      "outputs": [
        {
          "output_type": "stream",
          "name": "stdout",
          "text": [
            "Name= Salah , Age =60\n",
            "Name= Salah , Age = 60\n"
          ]
        }
      ]
    },
    {
      "cell_type": "markdown",
      "source": [
        "list"
      ],
      "metadata": {
        "id": "rrQvBhcuJXbN"
      }
    },
    {
      "cell_type": "code",
      "source": [
        "numbers=[0,1,2,3,4,5]"
      ],
      "metadata": {
        "id": "egAU0cw6JaPh"
      },
      "execution_count": 23,
      "outputs": []
    },
    {
      "cell_type": "code",
      "source": [
        "numbers + [5]\n",
        "\n"
      ],
      "metadata": {
        "colab": {
          "base_uri": "https://localhost:8080/"
        },
        "id": "ixwxqFhgKCs6",
        "outputId": "b4517df1-ab93-42d5-82c8-d3d669d113ce"
      },
      "execution_count": 24,
      "outputs": [
        {
          "output_type": "execute_result",
          "data": {
            "text/plain": [
              "[0, 1, 2, 3, 4, 5, 5]"
            ]
          },
          "metadata": {},
          "execution_count": 24
        }
      ]
    },
    {
      "cell_type": "code",
      "source": [
        "# list == string\n",
        "listDUplicate = numbers * 2\n",
        "listDUplicate"
      ],
      "metadata": {
        "colab": {
          "base_uri": "https://localhost:8080/"
        },
        "id": "FqNv0vBdKGR0",
        "outputId": "ba8cb517-e2a0-4979-f611-21ad5901f06e"
      },
      "execution_count": 26,
      "outputs": [
        {
          "output_type": "execute_result",
          "data": {
            "text/plain": [
              "[0, 1, 2, 3, 4, 5, 0, 1, 2, 3, 4, 5]"
            ]
          },
          "metadata": {},
          "execution_count": 26
        }
      ]
    },
    {
      "cell_type": "code",
      "source": [
        "len(numbers)"
      ],
      "metadata": {
        "colab": {
          "base_uri": "https://localhost:8080/"
        },
        "id": "mImlJJFRLCbt",
        "outputId": "9291e6df-2a11-41af-e15d-424522b569ad"
      },
      "execution_count": 27,
      "outputs": [
        {
          "output_type": "execute_result",
          "data": {
            "text/plain": [
              "6"
            ]
          },
          "metadata": {},
          "execution_count": 27
        }
      ]
    },
    {
      "cell_type": "code",
      "source": [
        "numbers.append(45)\n",
        "print(numbers)   #[0, 1, 2, 3, 4, 5, 45]\n",
        "\n",
        "numbers.sort()\n",
        "print(numbers)   #[0, 1, 2, 3, 4, 5, 45, 45]\n",
        "\n",
        "numbers.reverse()\n",
        "print(numbers)   #[45, 45, 5, 4, 3, 2, 1, 0]\n",
        "\n",
        "print(numbers.count(4))  #1\n",
        "\n",
        "numbers.remove(45)     #remove(value)\n",
        "print(numbers)   #[45, 5, 4, 3, 2, 1, 0]\n",
        "\n",
        "numbers.extend([45,56,78])\n",
        "print(numbers)   #[45, 5, 4, 3, 2, 1, 0, 45, 56, 78]\n",
        "\n",
        "numbers.pop()     #pop(index)\n",
        "print(numbers)   #[45, 5, 4, 3, 2, 1, 0, 45, 56]\n",
        "\n",
        "numbers.insert(2,55)\n",
        "print(numbers)   #[45, 5, 55, 4, 3, 2, 1, 0, 45, 56]\n",
        "\n",
        "numbers.pop(0)\n",
        "print(numbers)   #[5, 55, 4, 3, 2, 1, 0, 45, 56]\n",
        "\n",
        "\n",
        "del numbers[0]\n",
        "print(numbers)   #[55, 4, 3, 2, 1, 0, 45, 56]\n",
        "\n",
        "print(numbers.index(55))  #0   index(value)==> int index\n"
      ],
      "metadata": {
        "colab": {
          "base_uri": "https://localhost:8080/"
        },
        "id": "OzNdX2cZLFze",
        "outputId": "6f8e26e2-77a6-411c-9237-735879b66c34"
      },
      "execution_count": 44,
      "outputs": [
        {
          "output_type": "stream",
          "name": "stdout",
          "text": [
            "[55, 56, 56, 55, 55, 45, 45, 45, 45, 45, 45, 45, 45, 45, 5, 4, 3, 2, 1, 0, 45, 56, 45]\n",
            "[0, 1, 2, 3, 4, 5, 45, 45, 45, 45, 45, 45, 45, 45, 45, 45, 45, 55, 55, 55, 56, 56, 56]\n",
            "[56, 56, 56, 55, 55, 55, 45, 45, 45, 45, 45, 45, 45, 45, 45, 45, 45, 5, 4, 3, 2, 1, 0]\n",
            "1\n",
            "[56, 56, 56, 55, 55, 55, 45, 45, 45, 45, 45, 45, 45, 45, 45, 45, 5, 4, 3, 2, 1, 0]\n",
            "[56, 56, 56, 55, 55, 55, 45, 45, 45, 45, 45, 45, 45, 45, 45, 45, 5, 4, 3, 2, 1, 0, 45, 56, 78]\n",
            "[56, 56, 56, 55, 55, 55, 45, 45, 45, 45, 45, 45, 45, 45, 45, 45, 5, 4, 3, 2, 1, 0, 45, 56]\n",
            "[56, 56, 55, 56, 55, 55, 55, 45, 45, 45, 45, 45, 45, 45, 45, 45, 45, 5, 4, 3, 2, 1, 0, 45, 56]\n",
            "[56, 55, 56, 55, 55, 55, 45, 45, 45, 45, 45, 45, 45, 45, 45, 45, 5, 4, 3, 2, 1, 0, 45, 56]\n",
            "[55, 56, 55, 55, 55, 45, 45, 45, 45, 45, 45, 45, 45, 45, 45, 5, 4, 3, 2, 1, 0, 45, 56]\n",
            "0\n"
          ]
        }
      ]
    },
    {
      "cell_type": "code",
      "source": [
        "#string split into list form\n",
        "text = \" Hello, I am Omnia\"\n",
        "tolist = text.split()   #=.split(\"sep='نكتبها هنا' \")\n",
        "tolist\n"
      ],
      "metadata": {
        "colab": {
          "base_uri": "https://localhost:8080/"
        },
        "id": "sUMgrfePLxSa",
        "outputId": "20ff7247-0695-47e5-9c75-0a7390b7499c"
      },
      "execution_count": 46,
      "outputs": [
        {
          "output_type": "execute_result",
          "data": {
            "text/plain": [
              "['Hello,', 'I', 'am', 'Omnia']"
            ]
          },
          "metadata": {},
          "execution_count": 46
        }
      ]
    },
    {
      "cell_type": "code",
      "source": [
        "# for each character in string to be element in list\n",
        "text = \" Hello, I am Omnia\"\n",
        "tolist = list(text)\n",
        "tolist"
      ],
      "metadata": {
        "colab": {
          "base_uri": "https://localhost:8080/"
        },
        "id": "-vtGumZ-N5uw",
        "outputId": "0a56978d-13fb-46ed-c3fc-e19c19c02d5d"
      },
      "execution_count": 47,
      "outputs": [
        {
          "output_type": "execute_result",
          "data": {
            "text/plain": [
              "[' ',\n",
              " 'H',\n",
              " 'e',\n",
              " 'l',\n",
              " 'l',\n",
              " 'o',\n",
              " ',',\n",
              " ' ',\n",
              " 'I',\n",
              " ' ',\n",
              " 'a',\n",
              " 'm',\n",
              " ' ',\n",
              " 'O',\n",
              " 'm',\n",
              " 'n',\n",
              " 'i',\n",
              " 'a']"
            ]
          },
          "metadata": {},
          "execution_count": 47
        }
      ]
    },
    {
      "cell_type": "code",
      "source": [
        "alph=\"ABCD\"\n",
        "tolist = list(alph)\n",
        "tolist"
      ],
      "metadata": {
        "colab": {
          "base_uri": "https://localhost:8080/"
        },
        "id": "KovI-A8QOE8M",
        "outputId": "2ac4b0b3-eaf8-4701-e41b-d056c76b8835"
      },
      "execution_count": 50,
      "outputs": [
        {
          "output_type": "execute_result",
          "data": {
            "text/plain": [
              "['A', 'B', 'C', 'D']"
            ]
          },
          "metadata": {},
          "execution_count": 50
        }
      ]
    },
    {
      "cell_type": "code",
      "source": [
        "# list to string\n",
        "\"\".join(tolist)    # concatenation elements in list\n"
      ],
      "metadata": {
        "colab": {
          "base_uri": "https://localhost:8080/",
          "height": 36
        },
        "id": "u2LdDrJyQ9-S",
        "outputId": "cdb07883-2a2b-4695-90a2-9b0bab4d8b0a"
      },
      "execution_count": 51,
      "outputs": [
        {
          "output_type": "execute_result",
          "data": {
            "text/plain": [
              "'ABCD'"
            ],
            "application/vnd.google.colaboratory.intrinsic+json": {
              "type": "string"
            }
          },
          "metadata": {},
          "execution_count": 51
        }
      ]
    },
    {
      "cell_type": "markdown",
      "source": [
        "## Aliasing or Cloning\n",
        "\n",
        "**aliasing**\n",
        "\n",
        "كانها nickname  ولكن بتشاوي علي نفس المكان ف الميموري اللي محتفظ بنفس الحاجة ولكين امنيه او منه الاتنين بيخصوا نفس الشخص فلو مثلاا قولت منه بقيت مهندسه يبقي بالطبيعي امنيه كمان بقي مهندسه\n",
        "ده بيتم بال  assignment\n",
        "\n",
        "\n",
        "**cloning :**\n",
        "هتعمل duplicate  عشان تشتغل علي واحده والتانيه تفضل علي حالها ملهاش دعوه بالشغل بتاعك ده\n",
        "index or copy\n",
        "\n",
        "\n",
        "\n",
        "\n",
        "\n"
      ],
      "metadata": {
        "id": "TgSxBrc7Ry1z"
      }
    },
    {
      "cell_type": "code",
      "source": [
        "original = [2,4,6,8]\n",
        "new = original.copy()    #cloning\n",
        "aliasing1 = original      #aliasing\n",
        "aliasing2 = original[:]\n",
        "print(original)\n",
        "print(aliasing1)\n",
        "print(aliasing2)\n",
        "print(new)\n",
        "aliasing1.append(21)\n",
        "aliasing2.append(32)\n",
        "original.append(99)\n",
        "print(original)\n",
        "print(aliasing1)\n",
        "print(aliasing2)\n",
        "print(new)"
      ],
      "metadata": {
        "colab": {
          "base_uri": "https://localhost:8080/"
        },
        "id": "_w10aviTSZPd",
        "outputId": "35f415bc-bfe7-4845-acfd-130c2a55967e"
      },
      "execution_count": 55,
      "outputs": [
        {
          "output_type": "stream",
          "name": "stdout",
          "text": [
            "[2, 4, 6, 8]\n",
            "[2, 4, 6, 8]\n",
            "[2, 4, 6, 8]\n",
            "[2, 4, 6, 8]\n",
            "[2, 4, 6, 8, 21, 99]\n",
            "[2, 4, 6, 8, 21, 99]\n",
            "[2, 4, 6, 8, 32]\n",
            "[2, 4, 6, 8]\n"
          ]
        }
      ]
    },
    {
      "cell_type": "markdown",
      "source": [
        "# **range**\n",
        "range(start , step , end+1)\n",
        "default start = 0"
      ],
      "metadata": {
        "id": "ZLBx7qUGYC9G"
      }
    },
    {
      "cell_type": "code",
      "source": [
        "a , b = range(2)\n",
        "\n",
        "print(a,b)"
      ],
      "metadata": {
        "colab": {
          "base_uri": "https://localhost:8080/"
        },
        "id": "2alufrg7T6GL",
        "outputId": "21c25ba4-5824-498f-bee0-6fbf2d7c9310"
      },
      "execution_count": 58,
      "outputs": [
        {
          "output_type": "stream",
          "name": "stdout",
          "text": [
            "0 1\n"
          ]
        }
      ]
    },
    {
      "cell_type": "markdown",
      "source": [
        "*rest\n",
        "لما تكون مش عارف كميه الحاجة اللي جايه ارمي استار وكلمه وحط فيها"
      ],
      "metadata": {
        "id": "5nzFELTNY3Pt"
      }
    },
    {
      "cell_type": "code",
      "source": [
        "a , b ,*rest = range(345)\n",
        "print(a,b)\n",
        "print(rest)"
      ],
      "metadata": {
        "colab": {
          "base_uri": "https://localhost:8080/"
        },
        "id": "VQrlZr1aYdp6",
        "outputId": "e3034536-eb22-463b-8239-28f1f272c9af"
      },
      "execution_count": 61,
      "outputs": [
        {
          "output_type": "stream",
          "name": "stdout",
          "text": [
            "0 1\n",
            "[2, 3, 4, 5, 6, 7, 8, 9, 10, 11, 12, 13, 14, 15, 16, 17, 18, 19, 20, 21, 22, 23, 24, 25, 26, 27, 28, 29, 30, 31, 32, 33, 34, 35, 36, 37, 38, 39, 40, 41, 42, 43, 44, 45, 46, 47, 48, 49, 50, 51, 52, 53, 54, 55, 56, 57, 58, 59, 60, 61, 62, 63, 64, 65, 66, 67, 68, 69, 70, 71, 72, 73, 74, 75, 76, 77, 78, 79, 80, 81, 82, 83, 84, 85, 86, 87, 88, 89, 90, 91, 92, 93, 94, 95, 96, 97, 98, 99, 100, 101, 102, 103, 104, 105, 106, 107, 108, 109, 110, 111, 112, 113, 114, 115, 116, 117, 118, 119, 120, 121, 122, 123, 124, 125, 126, 127, 128, 129, 130, 131, 132, 133, 134, 135, 136, 137, 138, 139, 140, 141, 142, 143, 144, 145, 146, 147, 148, 149, 150, 151, 152, 153, 154, 155, 156, 157, 158, 159, 160, 161, 162, 163, 164, 165, 166, 167, 168, 169, 170, 171, 172, 173, 174, 175, 176, 177, 178, 179, 180, 181, 182, 183, 184, 185, 186, 187, 188, 189, 190, 191, 192, 193, 194, 195, 196, 197, 198, 199, 200, 201, 202, 203, 204, 205, 206, 207, 208, 209, 210, 211, 212, 213, 214, 215, 216, 217, 218, 219, 220, 221, 222, 223, 224, 225, 226, 227, 228, 229, 230, 231, 232, 233, 234, 235, 236, 237, 238, 239, 240, 241, 242, 243, 244, 245, 246, 247, 248, 249, 250, 251, 252, 253, 254, 255, 256, 257, 258, 259, 260, 261, 262, 263, 264, 265, 266, 267, 268, 269, 270, 271, 272, 273, 274, 275, 276, 277, 278, 279, 280, 281, 282, 283, 284, 285, 286, 287, 288, 289, 290, 291, 292, 293, 294, 295, 296, 297, 298, 299, 300, 301, 302, 303, 304, 305, 306, 307, 308, 309, 310, 311, 312, 313, 314, 315, 316, 317, 318, 319, 320, 321, 322, 323, 324, 325, 326, 327, 328, 329, 330, 331, 332, 333, 334, 335, 336, 337, 338, 339, 340, 341, 342, 343, 344]\n"
          ]
        }
      ]
    },
    {
      "cell_type": "code",
      "source": [],
      "metadata": {
        "id": "VhEvxgOkcyXy"
      },
      "execution_count": null,
      "outputs": []
    },
    {
      "cell_type": "code",
      "source": [
        "num1,num2,num3 ,*restofNumbers = input(\"Enter any number of numbers : \").split(\",\")\n",
        "print(num1)\n",
        "print(num2)\n",
        "print(num3)\n",
        "print(restofNumbers)"
      ],
      "metadata": {
        "colab": {
          "base_uri": "https://localhost:8080/"
        },
        "id": "LHWLNpYxYuya",
        "outputId": "485e9d1e-5327-4f85-e9a2-456da0fd0598"
      },
      "execution_count": 66,
      "outputs": [
        {
          "output_type": "stream",
          "name": "stdout",
          "text": [
            "Enter any number of numbers : 1,2,3,4,5,6,7\n",
            "1\n",
            "2\n",
            "3\n",
            "['4', '5', '6', '7']\n"
          ]
        }
      ]
    },
    {
      "cell_type": "code",
      "source": [],
      "metadata": {
        "id": "Na3FLH1OcvnS"
      },
      "execution_count": null,
      "outputs": []
    },
    {
      "cell_type": "markdown",
      "source": [
        "# **TUPLE**"
      ],
      "metadata": {
        "id": "tJVsSntbdpVw"
      }
    },
    {
      "cell_type": "markdown",
      "source": [
        "شبه ال list ولكن  مبعرفش اعدل عليه بمجرد انها اتعملت"
      ],
      "metadata": {
        "id": "BHp_pOwLdvoA"
      }
    },
    {
      "cell_type": "code",
      "source": [
        "tup = (1,2,3)\n",
        "tup"
      ],
      "metadata": {
        "colab": {
          "base_uri": "https://localhost:8080/"
        },
        "id": "9TujAV19dsvH",
        "outputId": "0cd895d1-90c4-4699-98cc-d4aef9f07190"
      },
      "execution_count": 77,
      "outputs": [
        {
          "output_type": "execute_result",
          "data": {
            "text/plain": [
              "(1, 2, 3)"
            ]
          },
          "metadata": {},
          "execution_count": 77
        }
      ]
    },
    {
      "cell_type": "code",
      "source": [
        "tup = tuple(range(10))\n",
        "tup"
      ],
      "metadata": {
        "colab": {
          "base_uri": "https://localhost:8080/"
        },
        "id": "5eUs9UmteGaQ",
        "outputId": "e0fa872a-f5d8-4129-e8d7-5524383b8bfb"
      },
      "execution_count": 84,
      "outputs": [
        {
          "output_type": "execute_result",
          "data": {
            "text/plain": [
              "(0, 1, 2, 3, 4, 5, 6, 7, 8, 9)"
            ]
          },
          "metadata": {},
          "execution_count": 84
        }
      ]
    },
    {
      "cell_type": "code",
      "source": [
        "tup[2: 8]"
      ],
      "metadata": {
        "colab": {
          "base_uri": "https://localhost:8080/"
        },
        "id": "wnc-kgFPeL4w",
        "outputId": "6f68384a-e533-4e95-db00-bd44825d6b08"
      },
      "execution_count": 85,
      "outputs": [
        {
          "output_type": "execute_result",
          "data": {
            "text/plain": [
              "(2, 3, 4, 5, 6, 7)"
            ]
          },
          "metadata": {},
          "execution_count": 85
        }
      ]
    },
    {
      "cell_type": "code",
      "source": [
        "# tup[3]=6      #error مينعش اعدل زي ما قولنا\n",
        "tup  +(77,)\n",
        "tup"
      ],
      "metadata": {
        "colab": {
          "base_uri": "https://localhost:8080/"
        },
        "id": "FGaWyYJVeYKB",
        "outputId": "2548015b-aa7a-4459-ae27-0c384f0224af"
      },
      "execution_count": 86,
      "outputs": [
        {
          "output_type": "execute_result",
          "data": {
            "text/plain": [
              "(0, 1, 2, 3, 4, 5, 6, 7, 8, 9)"
            ]
          },
          "metadata": {},
          "execution_count": 86
        }
      ]
    },
    {
      "cell_type": "code",
      "source": [
        "tup"
      ],
      "metadata": {
        "colab": {
          "base_uri": "https://localhost:8080/"
        },
        "id": "RkXnZz1LedIS",
        "outputId": "c28aae8d-9fe2-443d-f382-444c9fed8147"
      },
      "execution_count": 87,
      "outputs": [
        {
          "output_type": "execute_result",
          "data": {
            "text/plain": [
              "(0, 1, 2, 3, 4, 5, 6, 7, 8, 9)"
            ]
          },
          "metadata": {},
          "execution_count": 87
        }
      ]
    },
    {
      "cell_type": "code",
      "source": [
        "tup.count(7)\n",
        "tup.index(5)"
      ],
      "metadata": {
        "colab": {
          "base_uri": "https://localhost:8080/"
        },
        "id": "kiUdxeS0er6d",
        "outputId": "4fb45ebc-76be-4038-80a5-fdccacb96b38"
      },
      "execution_count": 88,
      "outputs": [
        {
          "output_type": "execute_result",
          "data": {
            "text/plain": [
              "5"
            ]
          },
          "metadata": {},
          "execution_count": 88
        }
      ]
    },
    {
      "cell_type": "code",
      "source": [
        "tup1 =(1,2,3)\n",
        "tup2 =(4,5,6)\n",
        "tup3= tup1+tup2\n",
        "tup3"
      ],
      "metadata": {
        "colab": {
          "base_uri": "https://localhost:8080/"
        },
        "id": "PocgNJ8xfMP4",
        "outputId": "425e87c2-d9f5-4afd-f128-fb8e11fb5708"
      },
      "execution_count": 90,
      "outputs": [
        {
          "output_type": "execute_result",
          "data": {
            "text/plain": [
              "(1, 2, 3, 4, 5, 6)"
            ]
          },
          "metadata": {},
          "execution_count": 90
        }
      ]
    },
    {
      "cell_type": "code",
      "source": [
        "a,b,c = (1,2,3)\n",
        "print(a)\n",
        "print(b)\n",
        "print(c)"
      ],
      "metadata": {
        "colab": {
          "base_uri": "https://localhost:8080/"
        },
        "id": "RgjOTcfjfcEu",
        "outputId": "b28fbb23-f022-4703-c985-21cb273fcdfb"
      },
      "execution_count": 91,
      "outputs": [
        {
          "output_type": "stream",
          "name": "stdout",
          "text": [
            "1\n",
            "2\n",
            "3\n"
          ]
        }
      ]
    },
    {
      "cell_type": "code",
      "source": [],
      "metadata": {
        "id": "Rl5741hcftua"
      },
      "execution_count": null,
      "outputs": []
    },
    {
      "cell_type": "markdown",
      "source": [
        "# SWAPPING IN **PYTHON** **bold text**"
      ],
      "metadata": {
        "id": "ZA3g9M5efvUE"
      }
    },
    {
      "cell_type": "code",
      "source": [
        "a = 50\n",
        "b = 80\n",
        "a,b =(b,a )\n",
        "print(a)    #80\n",
        "print(b)     #50"
      ],
      "metadata": {
        "colab": {
          "base_uri": "https://localhost:8080/"
        },
        "id": "4uwYUsuLf0MB",
        "outputId": "1635fdc6-3b11-4531-f2b6-e4e5d9659fa2"
      },
      "execution_count": 94,
      "outputs": [
        {
          "output_type": "stream",
          "name": "stdout",
          "text": [
            "80\n",
            "50\n"
          ]
        }
      ]
    },
    {
      "cell_type": "code",
      "source": [],
      "metadata": {
        "id": "3ldV2ivygCco"
      },
      "execution_count": null,
      "outputs": []
    },
    {
      "cell_type": "markdown",
      "source": [
        "# **Dictionary**"
      ],
      "metadata": {
        "id": "TGP39TDRiLrl"
      }
    },
    {
      "cell_type": "markdown",
      "source": [
        "as map\n"
      ],
      "metadata": {
        "id": "hn1lBC9miUqd"
      }
    },
    {
      "cell_type": "code",
      "source": [
        "dictionary ={\n",
        "    \"key1\" : \"value1\",\n",
        "    \"key2\" : [\"omnia , 23 , engineering\"]\n",
        "}"
      ],
      "metadata": {
        "id": "RkN00ujwiWrH"
      },
      "execution_count": 95,
      "outputs": []
    },
    {
      "cell_type": "code",
      "source": [
        "print(dictionary)\n",
        "print(dictionary.items())\n",
        "print(dictionary.values())\n",
        "print(dictionary.keys())\n",
        "print(dictionary.get(\"key2\"))\n",
        "print(dictionary[\"key1\"])\n",
        "dictionary[\"key6\"] = 345\n",
        "print(dictionary)"
      ],
      "metadata": {
        "colab": {
          "base_uri": "https://localhost:8080/"
        },
        "id": "rKOEHmqFipY0",
        "outputId": "feb17e56-37c0-44ac-c1b0-8848f314e425"
      },
      "execution_count": 114,
      "outputs": [
        {
          "output_type": "stream",
          "name": "stdout",
          "text": [
            "{'key1': 'value1', 'key2': ['omnia , 23 , engineering']}\n",
            "dict_items([('key1', 'value1'), ('key2', ['omnia , 23 , engineering'])])\n",
            "dict_values(['value1', ['omnia , 23 , engineering']])\n",
            "dict_keys(['key1', 'key2'])\n",
            "['omnia , 23 , engineering']\n",
            "value1\n",
            "{'key1': 'value1', 'key2': ['omnia , 23 , engineering'], 'key6': 345}\n"
          ]
        }
      ]
    },
    {
      "cell_type": "markdown",
      "source": [
        "LOOKUP\n",
        "# KEY IN DICT **bold text**"
      ],
      "metadata": {
        "id": "fZzT3lf7nlsI"
      }
    },
    {
      "cell_type": "code",
      "source": [
        "students = {\n",
        "    1 : \"omnia\",\n",
        "    2: \"sara\",\n",
        "    3: \"mona\"\n",
        "}\n",
        "print(1 in students)"
      ],
      "metadata": {
        "colab": {
          "base_uri": "https://localhost:8080/"
        },
        "id": "7TvzKsqunt8Y",
        "outputId": "72affd67-804a-4c7e-97f4-07c0850b04a3"
      },
      "execution_count": 115,
      "outputs": [
        {
          "output_type": "stream",
          "name": "stdout",
          "text": [
            "True\n"
          ]
        }
      ]
    },
    {
      "cell_type": "code",
      "source": [
        "del(students[1])\n",
        "print(students)\n",
        "students.pop(4 , None)   # من غير كلمه none كان هيحصل ايرور لانه مفيش كي =4"
      ],
      "metadata": {
        "colab": {
          "base_uri": "https://localhost:8080/"
        },
        "id": "UH_yCW1in_7D",
        "outputId": "873e192f-2c7f-44d3-daa8-e13bde2815ed"
      },
      "execution_count": 116,
      "outputs": [
        {
          "output_type": "stream",
          "name": "stdout",
          "text": [
            "{2: 'sara', 3: 'mona'}\n"
          ]
        }
      ]
    },
    {
      "cell_type": "markdown",
      "source": [
        "# ***SET***"
      ],
      "metadata": {
        "id": "6Ff2AIuCpYw0"
      }
    },
    {
      "cell_type": "markdown",
      "source": [
        "unordered collection ot unique values\n"
      ],
      "metadata": {
        "id": "k8nKt3U3plLm"
      }
    },
    {
      "cell_type": "code",
      "source": [
        "x= set()\n"
      ],
      "metadata": {
        "id": "6RJquz5mpNvj"
      },
      "execution_count": 117,
      "outputs": []
    },
    {
      "cell_type": "code",
      "source": [
        "x.add(10)"
      ],
      "metadata": {
        "id": "GAXxgb75p2aj"
      },
      "execution_count": 118,
      "outputs": []
    },
    {
      "cell_type": "code",
      "source": [
        "x"
      ],
      "metadata": {
        "colab": {
          "base_uri": "https://localhost:8080/"
        },
        "id": "9YoXySIHp4a7",
        "outputId": "ddf29ccf-302f-49d1-d98c-44778bd45a1a"
      },
      "execution_count": 119,
      "outputs": [
        {
          "output_type": "execute_result",
          "data": {
            "text/plain": [
              "{10}"
            ]
          },
          "metadata": {},
          "execution_count": 119
        }
      ]
    },
    {
      "cell_type": "code",
      "source": [
        "x.add(34)"
      ],
      "metadata": {
        "id": "2K1NxMyLp5gm"
      },
      "execution_count": 120,
      "outputs": []
    },
    {
      "cell_type": "code",
      "source": [
        "x.add(12)"
      ],
      "metadata": {
        "id": "Brch62m0p919"
      },
      "execution_count": 122,
      "outputs": []
    },
    {
      "cell_type": "code",
      "source": [
        "list1=[2,3,5,7,11]\n",
        "list2=[1,3,5,7,9,11]\n",
        "set1=set(list1)\n",
        "set2=set(list2)"
      ],
      "metadata": {
        "id": "hfOhhb7SqF_Z"
      },
      "execution_count": 123,
      "outputs": []
    },
    {
      "cell_type": "code",
      "source": [
        "x= set1.intersection(set2)\n",
        "x"
      ],
      "metadata": {
        "colab": {
          "base_uri": "https://localhost:8080/"
        },
        "id": "8ZT8VtrfqfjQ",
        "outputId": "a34cfbea-49f0-44b4-a597-6f7676284e60"
      },
      "execution_count": 124,
      "outputs": [
        {
          "output_type": "execute_result",
          "data": {
            "text/plain": [
              "{3, 5, 7, 11}"
            ]
          },
          "metadata": {},
          "execution_count": 124
        }
      ]
    },
    {
      "cell_type": "code",
      "source": [
        "x = set1.difference(set2)\n",
        "x"
      ],
      "metadata": {
        "colab": {
          "base_uri": "https://localhost:8080/"
        },
        "id": "FORhflYeqtSW",
        "outputId": "22d94f23-2393-4581-e145-e5d909981f47"
      },
      "execution_count": 125,
      "outputs": [
        {
          "output_type": "execute_result",
          "data": {
            "text/plain": [
              "{2}"
            ]
          },
          "metadata": {},
          "execution_count": 125
        }
      ]
    },
    {
      "cell_type": "code",
      "source": [
        "x= set1.union(set2)\n",
        "x"
      ],
      "metadata": {
        "colab": {
          "base_uri": "https://localhost:8080/"
        },
        "id": "YDNR6UInq1SV",
        "outputId": "ac767737-7c5a-42c9-d537-eba1e960dc75"
      },
      "execution_count": 126,
      "outputs": [
        {
          "output_type": "execute_result",
          "data": {
            "text/plain": [
              "{1, 2, 3, 5, 7, 9, 11}"
            ]
          },
          "metadata": {},
          "execution_count": 126
        }
      ]
    },
    {
      "cell_type": "code",
      "source": [],
      "metadata": {
        "id": "4enDE5Raq80q"
      },
      "execution_count": null,
      "outputs": []
    }
  ]
}